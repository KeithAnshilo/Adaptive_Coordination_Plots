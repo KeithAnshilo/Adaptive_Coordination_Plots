{
 "cells": [
  {
   "cell_type": "code",
   "execution_count": 1,
   "metadata": {
    "colab": {},
    "colab_type": "code",
    "id": "-INZEnnLLuOj"
   },
   "outputs": [],
   "source": [
    "import pandas as pd\n",
    "import numpy as np"
   ]
  },
  {
   "cell_type": "code",
   "execution_count": 5,
   "metadata": {},
   "outputs": [
    {
     "data": {
      "text/plain": [
       "numpy.ndarray"
      ]
     },
     "execution_count": 5,
     "metadata": {},
     "output_type": "execute_result"
    }
   ],
   "source": [
    "shape = (4,4,2,2)\n",
    "x= np.zeros(shape)\n",
    "type(x)\n"
   ]
  },
  {
   "cell_type": "code",
   "execution_count": 15,
   "metadata": {
    "colab": {
     "base_uri": "https://localhost:8080/",
     "height": 514
    },
    "colab_type": "code",
    "executionInfo": {
     "elapsed": 894,
     "status": "ok",
     "timestamp": 1582079250874,
     "user": {
      "displayName": "Damian Dailisan",
      "photoUrl": "https://lh3.googleusercontent.com/a-/AAuE7mBNOzu9vA92RPX6KtaBL6ud4AuFTdyXarSwYtkg=s64",
      "userId": "10887376399130250013"
     },
     "user_tz": -480
    },
    "id": "Bgn9gMEwPidS",
    "outputId": "de12ac4b-df50-4ed4-fa92-7e0cd28f3747"
   },
   "outputs": [
    {
     "data": {
      "text/html": [
       "<div>\n",
       "<style scoped>\n",
       "    .dataframe tbody tr th:only-of-type {\n",
       "        vertical-align: middle;\n",
       "    }\n",
       "\n",
       "    .dataframe tbody tr th {\n",
       "        vertical-align: top;\n",
       "    }\n",
       "\n",
       "    .dataframe thead th {\n",
       "        text-align: right;\n",
       "    }\n",
       "</style>\n",
       "<table border=\"1\" class=\"dataframe\">\n",
       "  <thead>\n",
       "    <tr style=\"text-align: right;\">\n",
       "      <th></th>\n",
       "      <th>time</th>\n",
       "      <th>reward</th>\n",
       "      <th>offset1</th>\n",
       "      <th>offset2</th>\n",
       "      <th>offset3</th>\n",
       "      <th>offset4</th>\n",
       "      <th>offset5</th>\n",
       "    </tr>\n",
       "  </thead>\n",
       "  <tbody>\n",
       "    <tr>\n",
       "      <th>0</th>\n",
       "      <td>1800</td>\n",
       "      <td>-58.33</td>\n",
       "      <td>70</td>\n",
       "      <td>86</td>\n",
       "      <td>82</td>\n",
       "      <td>59</td>\n",
       "      <td>107</td>\n",
       "    </tr>\n",
       "    <tr>\n",
       "      <th>1</th>\n",
       "      <td>2700</td>\n",
       "      <td>-27.18</td>\n",
       "      <td>70</td>\n",
       "      <td>86</td>\n",
       "      <td>82</td>\n",
       "      <td>59</td>\n",
       "      <td>107</td>\n",
       "    </tr>\n",
       "    <tr>\n",
       "      <th>2</th>\n",
       "      <td>3600</td>\n",
       "      <td>-30.57</td>\n",
       "      <td>70</td>\n",
       "      <td>86</td>\n",
       "      <td>82</td>\n",
       "      <td>59</td>\n",
       "      <td>107</td>\n",
       "    </tr>\n",
       "    <tr>\n",
       "      <th>3</th>\n",
       "      <td>4500</td>\n",
       "      <td>-20.25</td>\n",
       "      <td>70</td>\n",
       "      <td>86</td>\n",
       "      <td>82</td>\n",
       "      <td>59</td>\n",
       "      <td>107</td>\n",
       "    </tr>\n",
       "    <tr>\n",
       "      <th>4</th>\n",
       "      <td>5400</td>\n",
       "      <td>-19.61</td>\n",
       "      <td>70</td>\n",
       "      <td>86</td>\n",
       "      <td>82</td>\n",
       "      <td>59</td>\n",
       "      <td>107</td>\n",
       "    </tr>\n",
       "    <tr>\n",
       "      <th>5</th>\n",
       "      <td>6300</td>\n",
       "      <td>-30.07</td>\n",
       "      <td>37</td>\n",
       "      <td>72</td>\n",
       "      <td>60</td>\n",
       "      <td>43</td>\n",
       "      <td>107</td>\n",
       "    </tr>\n",
       "    <tr>\n",
       "      <th>6</th>\n",
       "      <td>7200</td>\n",
       "      <td>-33.33</td>\n",
       "      <td>31</td>\n",
       "      <td>55</td>\n",
       "      <td>60</td>\n",
       "      <td>43</td>\n",
       "      <td>6</td>\n",
       "    </tr>\n",
       "    <tr>\n",
       "      <th>7</th>\n",
       "      <td>8100</td>\n",
       "      <td>-50.84</td>\n",
       "      <td>31</td>\n",
       "      <td>55</td>\n",
       "      <td>60</td>\n",
       "      <td>43</td>\n",
       "      <td>6</td>\n",
       "    </tr>\n",
       "    <tr>\n",
       "      <th>8</th>\n",
       "      <td>9000</td>\n",
       "      <td>-37.77</td>\n",
       "      <td>31</td>\n",
       "      <td>55</td>\n",
       "      <td>60</td>\n",
       "      <td>43</td>\n",
       "      <td>6</td>\n",
       "    </tr>\n",
       "    <tr>\n",
       "      <th>9</th>\n",
       "      <td>9900</td>\n",
       "      <td>-38.35</td>\n",
       "      <td>31</td>\n",
       "      <td>55</td>\n",
       "      <td>60</td>\n",
       "      <td>71</td>\n",
       "      <td>6</td>\n",
       "    </tr>\n",
       "    <tr>\n",
       "      <th>10</th>\n",
       "      <td>10800</td>\n",
       "      <td>-39.52</td>\n",
       "      <td>31</td>\n",
       "      <td>72</td>\n",
       "      <td>60</td>\n",
       "      <td>43</td>\n",
       "      <td>48</td>\n",
       "    </tr>\n",
       "    <tr>\n",
       "      <th>11</th>\n",
       "      <td>11700</td>\n",
       "      <td>-76.88</td>\n",
       "      <td>71</td>\n",
       "      <td>72</td>\n",
       "      <td>60</td>\n",
       "      <td>97</td>\n",
       "      <td>48</td>\n",
       "    </tr>\n",
       "    <tr>\n",
       "      <th>12</th>\n",
       "      <td>12600</td>\n",
       "      <td>-46.89</td>\n",
       "      <td>71</td>\n",
       "      <td>72</td>\n",
       "      <td>88</td>\n",
       "      <td>97</td>\n",
       "      <td>48</td>\n",
       "    </tr>\n",
       "    <tr>\n",
       "      <th>13</th>\n",
       "      <td>13500</td>\n",
       "      <td>-53.70</td>\n",
       "      <td>31</td>\n",
       "      <td>72</td>\n",
       "      <td>60</td>\n",
       "      <td>43</td>\n",
       "      <td>6</td>\n",
       "    </tr>\n",
       "    <tr>\n",
       "      <th>14</th>\n",
       "      <td>14400</td>\n",
       "      <td>-51.31</td>\n",
       "      <td>31</td>\n",
       "      <td>55</td>\n",
       "      <td>60</td>\n",
       "      <td>43</td>\n",
       "      <td>6</td>\n",
       "    </tr>\n",
       "  </tbody>\n",
       "</table>\n",
       "</div>"
      ],
      "text/plain": [
       "     time  reward  offset1  offset2  offset3  offset4  offset5\n",
       "0    1800  -58.33       70       86       82       59      107\n",
       "1    2700  -27.18       70       86       82       59      107\n",
       "2    3600  -30.57       70       86       82       59      107\n",
       "3    4500  -20.25       70       86       82       59      107\n",
       "4    5400  -19.61       70       86       82       59      107\n",
       "5    6300  -30.07       37       72       60       43      107\n",
       "6    7200  -33.33       31       55       60       43        6\n",
       "7    8100  -50.84       31       55       60       43        6\n",
       "8    9000  -37.77       31       55       60       43        6\n",
       "9    9900  -38.35       31       55       60       71        6\n",
       "10  10800  -39.52       31       72       60       43       48\n",
       "11  11700  -76.88       71       72       60       97       48\n",
       "12  12600  -46.89       71       72       88       97       48\n",
       "13  13500  -53.70       31       72       60       43        6\n",
       "14  14400  -51.31       31       55       60       43        6"
      ]
     },
     "execution_count": 15,
     "metadata": {
      "tags": []
     },
     "output_type": "execute_result"
    }
   ],
   "source": [
    "pd.read_csv(\"/drive/My Drive/Coordinated_intersections/Offsets_noon.csv\")"
   ]
  },
  {
   "cell_type": "code",
   "execution_count": 14,
   "metadata": {
    "colab": {
     "base_uri": "https://localhost:8080/",
     "height": 34
    },
    "colab_type": "code",
    "executionInfo": {
     "elapsed": 2060,
     "status": "ok",
     "timestamp": 1582079247522,
     "user": {
      "displayName": "Damian Dailisan",
      "photoUrl": "https://lh3.googleusercontent.com/a-/AAuE7mBNOzu9vA92RPX6KtaBL6ud4AuFTdyXarSwYtkg=s64",
      "userId": "10887376399130250013"
     },
     "user_tz": -480
    },
    "id": "MxSBGOucPrHG",
    "outputId": "24f545b8-5411-4c30-fdef-138f3bf896a7"
   },
   "outputs": [
    {
     "name": "stdout",
     "output_type": "stream",
     "text": [
      "Offsets_noon.csv\n"
     ]
    }
   ],
   "source": [
    "!ls /drive/My\\ Drive/Coordinated_intersections"
   ]
  },
  {
   "cell_type": "code",
   "execution_count": 0,
   "metadata": {
    "colab": {},
    "colab_type": "code",
    "id": "_XKiOGAsPyuU"
   },
   "outputs": [],
   "source": []
  }
 ],
 "metadata": {
  "colab": {
   "authorship_tag": "ABX9TyO3G5pLcCuXVEX79Y9tx4l2",
   "name": "Manuscript_Plots.ipynb",
   "provenance": [],
   "toc_visible": true
  },
  "kernelspec": {
   "display_name": "Python 3",
   "language": "python",
   "name": "python3"
  },
  "language_info": {
   "codemirror_mode": {
    "name": "ipython",
    "version": 3
   },
   "file_extension": ".py",
   "mimetype": "text/x-python",
   "name": "python",
   "nbconvert_exporter": "python",
   "pygments_lexer": "ipython3",
   "version": "3.7.4"
  }
 },
 "nbformat": 4,
 "nbformat_minor": 1
}
